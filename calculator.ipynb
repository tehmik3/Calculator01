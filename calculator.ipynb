{
  "nbformat": 4,
  "nbformat_minor": 0,
  "metadata": {
    "colab": {
      "private_outputs": true,
      "provenance": [],
      "authorship_tag": "ABX9TyMPnpEZodM1XPS0DM4Zg2JC",
      "include_colab_link": true
    },
    "kernelspec": {
      "name": "python3",
      "display_name": "Python 3"
    },
    "language_info": {
      "name": "python"
    }
  },
  "cells": [
    {
      "cell_type": "markdown",
      "metadata": {
        "id": "view-in-github",
        "colab_type": "text"
      },
      "source": [
        "<a href=\"https://colab.research.google.com/github/tehmik3/Calculator01/blob/main/calculator.ipynb\" target=\"_parent\"><img src=\"https://colab.research.google.com/assets/colab-badge.svg\" alt=\"Open In Colab\"/></a>"
      ]
    },
    {
      "cell_type": "markdown",
      "source": [
        "# BMI **Calculator**"
      ],
      "metadata": {
        "id": "Wdda7UNaxjz2"
      }
    },
    {
      "cell_type": "code",
      "execution_count": null,
      "metadata": {
        "id": "m-PwotTIxfc7"
      },
      "outputs": [],
      "source": [
        "import streamlit as st\n",
        "import pandas as pd\n",
        "\n",
        "st.title(\"BMI Calculator\")\n",
        "\n",
        "height = st.slider(\"Enter your Height (in cm): \", 100, 250, 175)\n",
        "weight = st.slider(\"Enter your Weight (in kg): \", 40, 200, 70)\n",
        "\n",
        "bmi = weight / ((height/100) ** 2)\n",
        "\n",
        "st.write(f'Your BMI is {bmi:.2f}')\n",
        "\n",
        "st.write(\"### BMI Categories\")\n",
        "st.write(\"- Underweight: BMI less than 18.5\")\n",
        "st.write(\"- Normal weight: BMI between 18.5 and 24.9\")\n",
        "st.write(\"- Overweight: BMI between 25 and 29.9\")\n",
        "st.write(\"- obesity: BMI 30 or greater\")\n"
      ]
    }
  ]
}